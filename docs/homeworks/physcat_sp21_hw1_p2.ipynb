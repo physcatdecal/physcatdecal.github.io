{
 "cells": [
  {
   "cell_type": "markdown",
   "metadata": {},
   "source": [
    "# PhysCat Spring 2021, Homework 1\n",
    "## Part 2: Python Building Blocks\n",
    "\n",
    "v1.0 (2021 Spring): Aditya Sengupta, Aled Cuda\n",
    "\n",
    "## Introduction\n",
    "\n",
    "In this part of the homework, we'll recap the essential Python concepts and syntax that we'll build on throughout the rest of the course.\n",
    "\n",
    "This notebook is designed for a time budget of 1 hour, assuming it isn't your first exposure to these ideas. There are no graded questions: just run and understand everything. If you skim this and feel like you're already comfortable with everything, feel free to skip to Part 3, although we recommend you still run everything as there's a few subtleties/fun tricks. On the other hand, if you're ever unsure about something we use later, you can come back here and check out example usage.\n",
    "\n",
    "You don't have to submit this on Gradescope, but feel free to ask us questions about it!"
   ]
  },
  {
   "cell_type": "code",
   "execution_count": 1,
   "metadata": {},
   "outputs": [],
   "source": [
    "import tqdm\n",
    "import random"
   ]
  },
  {
   "cell_type": "markdown",
   "metadata": {},
   "source": [
    "It's possible that in a future homework or lecture we occasionally use a feature we forgot to explicitly introduce here and don't explain at the time. If we do that, feel free to ask us about it in the lecture/office hours/Discord! This section was partially adapted from the ULAB Physics and Astronomy CS modules from Fall 2020.\n",
    "\n",
    "There's surprisingly few pieces you need to express any possible computation using a programming language (which is a theoretical concept known as \"Turing completeness\" - Google it!) Technically, all you need to know is\n",
    "\n",
    "- how to store data (assigning to variables and using them) \n",
    "- conditional statements (`if`, `else`); and \n",
    "- loops (`for`, `while`). \n",
    "\n",
    "Everything else, including everything you'll learn in this entire class, is extra - you *could* program anything you want out of just these basic building blocks. But that would take way too much time, way too much computer power, and wouldn't be very fun as you'd have to reinvent thousands to millions of wheels. \n",
    "\n",
    "Instead of this, we'll spend this semester exploring how other people have cleverly built their own building blocks to make research programming faster and easier (right down to [the Jupyter notebook you're looking at right now](https://www.theatlantic.com/science/archive/2018/04/the-scientific-paper-is-obsolete/556676/)), and how you can do it too! Before we do that, though, let's review the basic elements of Python to make sure we know how everything after this works.\n",
    "\n",
    "### Section 2.1: Storing Data and Basic Operations\n",
    "\n",
    "Python data essentially comes in several basic types, or in custom types that are constructed using these basic ones. In programming languages, a variable is a reserved spot in computer memory that stores a particular value or a reference to an object. All languages have variables, but variables in Python are *dynamically* typed (unlike other statically-typed languages like Java). This means that you can define a variable `x` to be a certain type (e.g. int) and then later in your code assign `x` to a different type (e.g. string).\n",
    "\n",
    "You can always check the type of an object`x` by running `type(x)`."
   ]
  },
  {
   "cell_type": "code",
   "execution_count": 2,
   "metadata": {},
   "outputs": [
    {
     "data": {
      "text/plain": [
       "int"
      ]
     },
     "execution_count": 2,
     "metadata": {},
     "output_type": "execute_result"
    }
   ],
   "source": [
    "type(6)"
   ]
  },
  {
   "cell_type": "markdown",
   "metadata": {},
   "source": [
    "The types we'll look at here are Booleans (true/false), ints, floats, strings, lists, and dictionaries.\n",
    "\n",
    "**Booleans** just store `True` or `False`. This will be useful when we look at conditionals and loops in a bit: we'll be able to tell Python to do something if a certain expression is `True`, and not to do it if it's `False`."
   ]
  },
  {
   "cell_type": "code",
   "execution_count": 3,
   "metadata": {},
   "outputs": [
    {
     "data": {
      "text/plain": [
       "False"
      ]
     },
     "execution_count": 3,
     "metadata": {},
     "output_type": "execute_result"
    }
   ],
   "source": [
    "to_be = True\n",
    "not to_be"
   ]
  },
  {
   "cell_type": "markdown",
   "metadata": {},
   "source": [
    "Multiple Booleans can be combined in arbitrary patterns, so you can check multiple conditions at once, using the `and` and `or` keywords. Generally, Python usage follows how you would use this in real life: if this is true \"or\" that is true, you go ahead."
   ]
  },
  {
   "cell_type": "code",
   "execution_count": 4,
   "metadata": {},
   "outputs": [
    {
     "data": {
      "text/plain": [
       "True"
      ]
     },
     "execution_count": 4,
     "metadata": {},
     "output_type": "execute_result"
    }
   ],
   "source": [
    "the_question = to_be or not to_be\n",
    "the_question"
   ]
  },
  {
   "cell_type": "markdown",
   "metadata": {},
   "source": [
    "**Ints** represent the positive and negative integers. Unlike some other languages, [integers in Python 3](https://docs.python.org/3.1/whatsnew/3.0.html#integers) are unbounded, that is, there is no theoretical maximum integer that Python can store. **Floats** (floating-point numbers) extend this to decimals, so that we can do algebra using the entire real line."
   ]
  },
  {
   "cell_type": "code",
   "execution_count": 5,
   "metadata": {},
   "outputs": [
    {
     "name": "stdout",
     "output_type": "stream",
     "text": [
      "the type of x is <class 'int'>, while the type of y is <class 'float'>\n"
     ]
    }
   ],
   "source": [
    "x = 1\n",
    "y = 2.3\n",
    "print(\"the type of x is {0}, while the type of y is {1}\".format(type(x), type(y)))\n",
    "z = x + y"
   ]
  },
  {
   "cell_type": "markdown",
   "metadata": {},
   "source": [
    "With ints and floats (which together with complex numbers, which we won't discuss here, are called \"numeric types\"), we can start doing arithmetic. Along with the four basic operations (`+`, `-`, `*`, `/`), we can\n",
    "- check if numbers are equal (`==`) or not equal (`!=`)\n",
    "- compare numbers using the greater-than (`>`) or less-than (`<`) operators, or the equivalents with equality (`>=`, `<=`)\n",
    "- divide integers without a remainder (`//`)\n",
    "- divide integers and retain *only* the remainder (`%`)\n",
    "- take an absolute value (`abs`).\n",
    "\n",
    "Refer to the [Python documentation on built-in types](https://docs.python.org/3/library/stdtypes.html) for more!"
   ]
  },
  {
   "cell_type": "markdown",
   "metadata": {},
   "source": [
    "Floats are slightly limited by the finite space assigned to them in computer memory, meaning they're prone to rounding errors. This is relevant in a few places we'll discuss: for example, in probabilistic programming, you often make decisions based on very small values, where floating-point errors may influence the actual effects you're trying to see. We'll discuss how to work around this as and when it becomes a problem: for now, just keep this idea in the back of your mind."
   ]
  },
  {
   "cell_type": "code",
   "execution_count": 6,
   "metadata": {},
   "outputs": [
    {
     "data": {
      "text/plain": [
       "0.30000000000000004"
      ]
     },
     "execution_count": 6,
     "metadata": {},
     "output_type": "execute_result"
    }
   ],
   "source": [
    "0.1 + 0.2"
   ]
  },
  {
   "cell_type": "markdown",
   "metadata": {},
   "source": [
    "**Strings** (the `str` type) are objects that contain any text you give them."
   ]
  },
  {
   "cell_type": "code",
   "execution_count": 7,
   "metadata": {},
   "outputs": [
    {
     "data": {
      "text/plain": [
       "str"
      ]
     },
     "execution_count": 7,
     "metadata": {},
     "output_type": "execute_result"
    }
   ],
   "source": [
    "type(\"Hi!\")"
   ]
  },
  {
   "cell_type": "markdown",
   "metadata": {},
   "source": [
    "The major operations we'll use on strings are indexing into them to get the characters at a certain position, and their length using `len`. \"Indexing\" a string means referring to the individual characters making up a string based on their position. For example, the index expression below extracts the word \"California\" by looking at the 14th-23rd characters of the string (indexing in Python starts from 0, is inclusive on the left and exclusive on the right)."
   ]
  },
  {
   "cell_type": "code",
   "execution_count": 8,
   "metadata": {},
   "outputs": [
    {
     "data": {
      "text/plain": [
       "'California'"
      ]
     },
     "execution_count": 8,
     "metadata": {},
     "output_type": "execute_result"
    }
   ],
   "source": [
    "univ_name = \"University of California, Berkeley\"\n",
    "state = univ_name[14:24]\n",
    "state"
   ]
  },
  {
   "cell_type": "markdown",
   "metadata": {},
   "source": [
    "We can get the length of the original string and the resulting one using `len`:"
   ]
  },
  {
   "cell_type": "code",
   "execution_count": 9,
   "metadata": {},
   "outputs": [
    {
     "data": {
      "text/plain": [
       "34"
      ]
     },
     "execution_count": 9,
     "metadata": {},
     "output_type": "execute_result"
    }
   ],
   "source": [
    "len(univ_name)"
   ]
  },
  {
   "cell_type": "code",
   "execution_count": 10,
   "metadata": {},
   "outputs": [
    {
     "data": {
      "text/plain": [
       "10"
      ]
     },
     "execution_count": 10,
     "metadata": {},
     "output_type": "execute_result"
    }
   ],
   "source": [
    "len(state)"
   ]
  },
  {
   "cell_type": "markdown",
   "metadata": {},
   "source": [
    "Strings can be manipulated using many of the same rules as numeric types (for example, you can add strings together to combine them, using the `+` operator), but this doesn't come up as much. We'll revisit this when we talk about dataframes, which are structures used to contain a large amount of data: we'll use strings to name the columns of a dataframe.\n",
    "\n",
    "Strings have a large number of built-in operations, or *methods*, that may be useful. Generally if you have a string `s` and a string method `f`, you call it by running `s.f()`. Sometimes the method may need inputs `q`, in which case you can run `s.f(q)`.\n",
    "\n",
    "For a more concrete example, let's look at the `islower` method. This checks whether all characters within the string are lowercase."
   ]
  },
  {
   "cell_type": "code",
   "execution_count": 11,
   "metadata": {},
   "outputs": [
    {
     "data": {
      "text/plain": [
       "True"
      ]
     },
     "execution_count": 11,
     "metadata": {},
     "output_type": "execute_result"
    }
   ],
   "source": [
    "\"all lowercase\".islower()"
   ]
  },
  {
   "cell_type": "code",
   "execution_count": 12,
   "metadata": {},
   "outputs": [
    {
     "data": {
      "text/plain": [
       "False"
      ]
     },
     "execution_count": 12,
     "metadata": {},
     "output_type": "execute_result"
    }
   ],
   "source": [
    "\"This has capital letters!\".islower()"
   ]
  },
  {
   "cell_type": "markdown",
   "metadata": {},
   "source": [
    "Generally, it's a better idea to look up operations and methods as needed than to try and remember everything that strings (or anything else you encounter) can do. If you're ever doing something with strings that you think someone may have done before, or it seems like a common problem, it's a good idea to look up the [Python documentation](https://docs.python.org/3/library/stdtypes.html#str) for string methods to see if it exists.\n",
    "\n",
    "For instance, suppose we have a string with a lot of trailing and leading space."
   ]
  },
  {
   "cell_type": "code",
   "execution_count": 13,
   "metadata": {},
   "outputs": [],
   "source": [
    "spaced = \"            there's so much empty space                \""
   ]
  },
  {
   "cell_type": "markdown",
   "metadata": {},
   "source": [
    "If we want to get rid of it, we could try and find the index where the actual text starts, where it ends, and index into it. This sounds annoying and labor-intensive. However, you might expect that this is a common use case; for example, if you're reading text from a file, you might carry over some extra spaces. So, you might look up the documentation, or Google something like \"python delete spaces in string\", and you'll find the `strip` function. Try it:"
   ]
  },
  {
   "cell_type": "code",
   "execution_count": 14,
   "metadata": {},
   "outputs": [
    {
     "data": {
      "text/plain": [
       "\"there's so much empty space\""
      ]
     },
     "execution_count": 14,
     "metadata": {},
     "output_type": "execute_result"
    }
   ],
   "source": [
    "spaced.strip()"
   ]
  },
  {
   "cell_type": "markdown",
   "metadata": {},
   "source": [
    "**Lists** and **dictionaries** are the last types we'll talk about. "
   ]
  },
  {
   "cell_type": "markdown",
   "metadata": {},
   "source": [
    "Lists give us a way to structure any datatype and let us index into them, similar to strings. You can make a list by putting any other objects in square brackets `[...]`:"
   ]
  },
  {
   "cell_type": "code",
   "execution_count": 15,
   "metadata": {},
   "outputs": [
    {
     "data": {
      "text/plain": [
       "8"
      ]
     },
     "execution_count": 15,
     "metadata": {},
     "output_type": "execute_result"
    }
   ],
   "source": [
    "num_lst = [3, 8, 10]\n",
    "num_lst[1]"
   ]
  },
  {
   "cell_type": "markdown",
   "metadata": {},
   "source": [
    "Lists can mix types and can even have other lists in them."
   ]
  },
  {
   "cell_type": "code",
   "execution_count": 16,
   "metadata": {},
   "outputs": [],
   "source": [
    "mixed_lst = [3, 1.8, \"python\", [10, 2.4]]"
   ]
  },
  {
   "cell_type": "markdown",
   "metadata": {},
   "source": [
    "In practice, you're unlikely to use lists very much: it's usually better to use a numpy `array` or a pandas `DataFrame`, both of which we'll discuss later. However, both of these structures build on the idea of a list."
   ]
  },
  {
   "cell_type": "markdown",
   "metadata": {},
   "source": [
    "A dictionary is similar to a list, except instead of accessing elements by their order, we access elements through \"key\" values. Dictionaries are useful to save intermediate results, or to keep track of interrelationships between data."
   ]
  },
  {
   "cell_type": "code",
   "execution_count": 17,
   "metadata": {},
   "outputs": [],
   "source": [
    "squares = {3: 9, 2: 4, -1: 1}"
   ]
  },
  {
   "cell_type": "code",
   "execution_count": 18,
   "metadata": {},
   "outputs": [
    {
     "data": {
      "text/plain": [
       "9"
      ]
     },
     "execution_count": 18,
     "metadata": {},
     "output_type": "execute_result"
    }
   ],
   "source": [
    "squares[3]"
   ]
  },
  {
   "cell_type": "markdown",
   "metadata": {},
   "source": [
    "### Section 2.2: Conditionals"
   ]
  },
  {
   "cell_type": "markdown",
   "metadata": {},
   "source": [
    "Conditional statements let us execute different actions based on a certain condition: if something is true, do X, and if it's not, do Y. The statement we use for this is `if...elif...else`."
   ]
  },
  {
   "cell_type": "code",
   "execution_count": 19,
   "metadata": {},
   "outputs": [
    {
     "name": "stdout",
     "output_type": "stream",
     "text": [
      "this is true\n"
     ]
    }
   ],
   "source": [
    "if True:\n",
    "    print(\"this is true\")"
   ]
  },
  {
   "cell_type": "code",
   "execution_count": 20,
   "metadata": {},
   "outputs": [
    {
     "name": "stdout",
     "output_type": "stream",
     "text": [
      "you'll always see this\n"
     ]
    }
   ],
   "source": [
    "if False:\n",
    "    print(\"you'll never see this\")\n",
    "else:\n",
    "    print(\"you'll always see this\")"
   ]
  },
  {
   "cell_type": "markdown",
   "metadata": {},
   "source": [
    "The conditions are often based on other variables:"
   ]
  },
  {
   "cell_type": "code",
   "execution_count": 21,
   "metadata": {},
   "outputs": [
    {
     "name": "stdout",
     "output_type": "stream",
     "text": [
      "here!\n"
     ]
    }
   ],
   "source": [
    "x = 3\n",
    "if x == 1:\n",
    "    print(\"not here\")\n",
    "elif x == 2:\n",
    "    print(\"still not yet...\")\n",
    "else:\n",
    "    print(\"here!\")"
   ]
  },
  {
   "cell_type": "code",
   "execution_count": 22,
   "metadata": {},
   "outputs": [
    {
     "name": "stdout",
     "output_type": "stream",
     "text": [
      "x is even:\n",
      "False\n"
     ]
    }
   ],
   "source": [
    "x = 3 \n",
    "print(\"x is even:\")\n",
    "if x % 2 == 0:\n",
    "    print(True)\n",
    "else:\n",
    "    print(False)"
   ]
  },
  {
   "cell_type": "code",
   "execution_count": 23,
   "metadata": {},
   "outputs": [
    {
     "name": "stdout",
     "output_type": "stream",
     "text": [
      "x is even:\n",
      "True\n"
     ]
    }
   ],
   "source": [
    "x = 4\n",
    "print(\"x is even:\")\n",
    "if x % 2 == 0:\n",
    "    print(True)\n",
    "else:\n",
    "    print(False)"
   ]
  },
  {
   "cell_type": "markdown",
   "metadata": {},
   "source": [
    "`if` statements are useful for decision-making. For example (and you'll see this almost immediately in the next part of this homework) if you want to \"flip a coin\" using only the `random.random()` function, which gives us a number uniformly chosen between 0 and 1 (like in the first line below), you can do this:"
   ]
  },
  {
   "cell_type": "code",
   "execution_count": 24,
   "metadata": {},
   "outputs": [
    {
     "name": "stdout",
     "output_type": "stream",
     "text": [
      "tails\n"
     ]
    }
   ],
   "source": [
    "# run me a few times!\n",
    "r = random.random()\n",
    "if r < 0.5:\n",
    "    print(\"heads\")\n",
    "elif r > 0.5:\n",
    "    print(\"tails\")\n",
    "else: # it's basically impossible to get this\n",
    "    print(\"coin fell on its side\")"
   ]
  },
  {
   "cell_type": "markdown",
   "metadata": {},
   "source": [
    "An aside: the even-checking code can be written more to be more \"pythonic\" (a bit of a subjective term that basically means \"elegant and uses Python features\") in a way that avoids the `if` altogether."
   ]
  },
  {
   "cell_type": "code",
   "execution_count": 25,
   "metadata": {},
   "outputs": [
    {
     "name": "stdout",
     "output_type": "stream",
     "text": [
      "x is even: True\n"
     ]
    }
   ],
   "source": [
    "x = 4\n",
    "print(\"x is even: {}\".format(not bool(x % 2)))"
   ]
  },
  {
   "cell_type": "markdown",
   "metadata": {},
   "source": [
    "For more on what constitutes pythonic code, run the cell below to get more questions than answers:"
   ]
  },
  {
   "cell_type": "code",
   "execution_count": 26,
   "metadata": {
    "scrolled": true
   },
   "outputs": [
    {
     "name": "stdout",
     "output_type": "stream",
     "text": [
      "The Zen of Python, by Tim Peters\n",
      "\n",
      "Beautiful is better than ugly.\n",
      "Explicit is better than implicit.\n",
      "Simple is better than complex.\n",
      "Complex is better than complicated.\n",
      "Flat is better than nested.\n",
      "Sparse is better than dense.\n",
      "Readability counts.\n",
      "Special cases aren't special enough to break the rules.\n",
      "Although practicality beats purity.\n",
      "Errors should never pass silently.\n",
      "Unless explicitly silenced.\n",
      "In the face of ambiguity, refuse the temptation to guess.\n",
      "There should be one-- and preferably only one --obvious way to do it.\n",
      "Although that way may not be obvious at first unless you're Dutch.\n",
      "Now is better than never.\n",
      "Although never is often better than *right* now.\n",
      "If the implementation is hard to explain, it's a bad idea.\n",
      "If the implementation is easy to explain, it may be a good idea.\n",
      "Namespaces are one honking great idea -- let's do more of those!\n"
     ]
    }
   ],
   "source": [
    "import this"
   ]
  },
  {
   "cell_type": "markdown",
   "metadata": {},
   "source": [
    "### Section 2.3: Loops"
   ]
  },
  {
   "cell_type": "markdown",
   "metadata": {},
   "source": [
    "Loops are how we tell Python to do something many times, up until some condition is met. Similar to `if`, we can have Python do something *until* a condition is met with the `while` statement."
   ]
  },
  {
   "cell_type": "code",
   "execution_count": 27,
   "metadata": {},
   "outputs": [
    {
     "name": "stdout",
     "output_type": "stream",
     "text": [
      "after breaking out, y = 11\n"
     ]
    }
   ],
   "source": [
    "y = 0\n",
    "while y <= 10:\n",
    "    y += 1\n",
    "\n",
    "print(\"after breaking out, y = {}\".format(y))"
   ]
  },
  {
   "cell_type": "markdown",
   "metadata": {},
   "source": [
    "The more commonly used loop structure in Python, however, is `for`. This takes in an iterable (usually a list or a `range` object) and lets a variable run over every element of that iterable."
   ]
  },
  {
   "cell_type": "code",
   "execution_count": 28,
   "metadata": {},
   "outputs": [
    {
     "name": "stdout",
     "output_type": "stream",
     "text": [
      "welcome to physcat!\n",
      "we hope you learn something cool\n",
      "join the discord\n"
     ]
    }
   ],
   "source": [
    "all_messages = [\"welcome to physcat!\", \"we hope you learn something cool\", \"join the discord\"]\n",
    "for message in all_messages:\n",
    "    print(message)"
   ]
  },
  {
   "cell_type": "markdown",
   "metadata": {},
   "source": [
    "The `range` object takes in the start and end points of a range of integers, and returns them one by one (including the first, excluding the last). This is better than making a list of them, because Python doesn't have to store all of them in memory. If you only provide one input $n$, it runs $0, 1, \\dots, n - 1$."
   ]
  },
  {
   "cell_type": "code",
   "execution_count": 29,
   "metadata": {},
   "outputs": [
    {
     "data": {
      "text/plain": [
       "[0, 1, 2, 3, 4]"
      ]
     },
     "execution_count": 29,
     "metadata": {},
     "output_type": "execute_result"
    }
   ],
   "source": [
    "list(range(5)) # the `list` function takes in an iterable and stores everything in it in a list"
   ]
  },
  {
   "cell_type": "code",
   "execution_count": 30,
   "metadata": {},
   "outputs": [
    {
     "data": {
      "text/plain": [
       "[3, 4, 5, 6]"
      ]
     },
     "execution_count": 30,
     "metadata": {},
     "output_type": "execute_result"
    }
   ],
   "source": [
    "list(range(3, 7))"
   ]
  },
  {
   "cell_type": "code",
   "execution_count": 31,
   "metadata": {},
   "outputs": [
    {
     "name": "stdout",
     "output_type": "stream",
     "text": [
      "25\n",
      "36\n",
      "49\n",
      "64\n",
      "81\n"
     ]
    }
   ],
   "source": [
    "for n in range(5, 10):\n",
    "    print(n ** 2)"
   ]
  },
  {
   "cell_type": "markdown",
   "metadata": {},
   "source": [
    "If you ever see a loop taking a long time, you can create a progress bar to see how far along it is using the `tqdm` package. This provides a progress bar both in a notebook and in terminal Python (go to your terminal, run `python3` and copy and paste the cell below to see what it looks like there as well)."
   ]
  },
  {
   "cell_type": "code",
   "execution_count": 32,
   "metadata": {},
   "outputs": [
    {
     "name": "stderr",
     "output_type": "stream",
     "text": [
      "100%|██████████| 3000000/3000000 [00:00<00:00, 3196853.68it/s]"
     ]
    },
    {
     "name": "stdout",
     "output_type": "stream",
     "text": [
      "done\n"
     ]
    },
    {
     "name": "stderr",
     "output_type": "stream",
     "text": [
      "\n"
     ]
    }
   ],
   "source": [
    "# multiplying a list by a number repeats it that many times\n",
    "# here we're just doing it to make more things to loop over\n",
    "for i in tqdm.tqdm(all_messages * 1000000):\n",
    "    pass # Python-speak for \"do nothing\"\n",
    "print(\"done\")"
   ]
  },
  {
   "cell_type": "markdown",
   "metadata": {},
   "source": [
    "`tqdm.tqdm` wraps any iterable. If you're wrapping a `range`, you can also use `tqdm.trange`:"
   ]
  },
  {
   "cell_type": "code",
   "execution_count": 33,
   "metadata": {},
   "outputs": [
    {
     "name": "stderr",
     "output_type": "stream",
     "text": [
      "100%|██████████| 10000000/10000000 [00:02<00:00, 3488683.27it/s]"
     ]
    },
    {
     "name": "stdout",
     "output_type": "stream",
     "text": [
      "done\n"
     ]
    },
    {
     "name": "stderr",
     "output_type": "stream",
     "text": [
      "\n"
     ]
    }
   ],
   "source": [
    "for i in tqdm.trange(10000000):\n",
    "    pass\n",
    "print(\"done\")"
   ]
  },
  {
   "cell_type": "markdown",
   "metadata": {},
   "source": [
    "We'll often use \"list comprehensions\" or \"dictionary comprehensions\" as ways of defining lists or dictionaries in a single line, which use a slightly rearranged `for` loop. A list comprehension follows the syntax\n",
    "\n",
    "`[new_item_expression for item in iterable]`.\n",
    "\n",
    "For example:"
   ]
  },
  {
   "cell_type": "code",
   "execution_count": 34,
   "metadata": {},
   "outputs": [
    {
     "data": {
      "text/plain": [
       "[-3, -2, -1, 0, 1]"
      ]
     },
     "execution_count": 34,
     "metadata": {},
     "output_type": "execute_result"
    }
   ],
   "source": [
    "[x - 3 for x in range(5)]"
   ]
  },
  {
   "cell_type": "markdown",
   "metadata": {},
   "source": [
    "A dictionary comprehension is similar, except we specify both a key and value:"
   ]
  },
  {
   "cell_type": "code",
   "execution_count": 35,
   "metadata": {},
   "outputs": [
    {
     "data": {
      "text/plain": [
       "{0: 0, 1: 1, 2: 4, 3: 9, 4: 16}"
      ]
     },
     "execution_count": 35,
     "metadata": {},
     "output_type": "execute_result"
    }
   ],
   "source": [
    "{x : x ** 2 for x in range(5)}"
   ]
  },
  {
   "cell_type": "markdown",
   "metadata": {},
   "source": [
    "### Section 2.4: Functions"
   ]
  },
  {
   "cell_type": "markdown",
   "metadata": {},
   "source": [
    "Often, we want to *encapsulate* a particular piece of code so we can use it multiple times, or so we can separate it from the rest of a program. In this case we use a function. You can think of this in the same way you think of mathematical functions in algebra class:"
   ]
  },
  {
   "cell_type": "code",
   "execution_count": 36,
   "metadata": {},
   "outputs": [],
   "source": [
    "def square(x):\n",
    "    return x * x\n",
    "\n",
    "def cube(x):\n",
    "    return x * x * x"
   ]
  },
  {
   "cell_type": "code",
   "execution_count": 37,
   "metadata": {},
   "outputs": [
    {
     "data": {
      "text/plain": [
       "(9, 64)"
      ]
     },
     "execution_count": 37,
     "metadata": {},
     "output_type": "execute_result"
    }
   ],
   "source": [
    "square(3), cube(4)"
   ]
  },
  {
   "cell_type": "markdown",
   "metadata": {},
   "source": [
    "Functions can have multiple inputs and outputs:"
   ]
  },
  {
   "cell_type": "code",
   "execution_count": 38,
   "metadata": {},
   "outputs": [],
   "source": [
    "def power(x, n):\n",
    "    # this is essentially the same as the builtin function 'pow'\n",
    "    return x ** n\n",
    "\n",
    "def divide(N, m):\n",
    "    return N // m, N % m"
   ]
  },
  {
   "cell_type": "code",
   "execution_count": 39,
   "metadata": {},
   "outputs": [
    {
     "data": {
      "text/plain": [
       "81"
      ]
     },
     "execution_count": 39,
     "metadata": {},
     "output_type": "execute_result"
    }
   ],
   "source": [
    "power(3, 4) # multiple inputs"
   ]
  },
  {
   "cell_type": "code",
   "execution_count": 40,
   "metadata": {},
   "outputs": [
    {
     "data": {
      "text/plain": [
       "(2, 1)"
      ]
     },
     "execution_count": 40,
     "metadata": {},
     "output_type": "execute_result"
    }
   ],
   "source": [
    "divide(5, 2) # multiple inputs and multiple outputs"
   ]
  },
  {
   "cell_type": "markdown",
   "metadata": {},
   "source": [
    "Or they can have no inputs (like `random.random()`) or no outputs (like `print`). Let's look at what happens if we try to assign a variable to the result of printing something:"
   ]
  },
  {
   "cell_type": "code",
   "execution_count": 41,
   "metadata": {},
   "outputs": [
    {
     "name": "stdout",
     "output_type": "stream",
     "text": [
      "5\n"
     ]
    }
   ],
   "source": [
    "printval = print(\"5\")"
   ]
  },
  {
   "cell_type": "markdown",
   "metadata": {},
   "source": [
    "You see the 5 from the print statement, but what about `printval`?"
   ]
  },
  {
   "cell_type": "code",
   "execution_count": 42,
   "metadata": {},
   "outputs": [],
   "source": [
    "printval"
   ]
  },
  {
   "cell_type": "markdown",
   "metadata": {},
   "source": [
    "Looks like it's nothing! In fact, it's a Python object called `None`:"
   ]
  },
  {
   "cell_type": "code",
   "execution_count": 43,
   "metadata": {},
   "outputs": [
    {
     "data": {
      "text/plain": [
       "True"
      ]
     },
     "execution_count": 43,
     "metadata": {},
     "output_type": "execute_result"
    }
   ],
   "source": [
    "printval is None \n",
    "# 'is' means they're the same object, but two things can be different objects with the same value\n",
    "# this is a subtle point we won't pay much attention to, but ask us if you're curious!"
   ]
  },
  {
   "cell_type": "markdown",
   "metadata": {},
   "source": [
    "This isn't just restricted to math operations; functions can take in and return anything in Python."
   ]
  },
  {
   "cell_type": "code",
   "execution_count": 44,
   "metadata": {},
   "outputs": [
    {
     "data": {
      "text/plain": [
       "'e'"
      ]
     },
     "execution_count": 44,
     "metadata": {},
     "output_type": "execute_result"
    }
   ],
   "source": [
    "def fifth_char_of_string(s):\n",
    "    return s[4]\n",
    "\n",
    "fifth_char_of_string(univ_name)"
   ]
  },
  {
   "cell_type": "markdown",
   "metadata": {},
   "source": [
    "Usually when we write code (at least in Python or any other \"functional programming\" language), we want to write a set of functions that each do a part of what we want to do, and then combine them all somehow.  \n",
    "\n",
    "If you ever see a function and you don't know what it does, try `help`:"
   ]
  },
  {
   "cell_type": "code",
   "execution_count": 45,
   "metadata": {},
   "outputs": [
    {
     "name": "stdout",
     "output_type": "stream",
     "text": [
      "Help on built-in function len in module builtins:\n",
      "\n",
      "len(obj, /)\n",
      "    Return the number of items in a container.\n",
      "\n"
     ]
    }
   ],
   "source": [
    "help(len)"
   ]
  },
  {
   "cell_type": "code",
   "execution_count": 46,
   "metadata": {},
   "outputs": [
    {
     "name": "stdout",
     "output_type": "stream",
     "text": [
      "Help on built-in function pow in module builtins:\n",
      "\n",
      "pow(base, exp, mod=None)\n",
      "    Equivalent to base**exp with 2 arguments or base**exp % mod with 3 arguments\n",
      "    \n",
      "    Some types, such as ints, are able to use a more efficient algorithm when\n",
      "    invoked using the three argument form.\n",
      "\n"
     ]
    }
   ],
   "source": [
    "help(pow)"
   ]
  },
  {
   "cell_type": "markdown",
   "metadata": {},
   "source": [
    "If you're writing a function, you can add your own \"docstring\", which will be returned when you call `help` on the function you wrote. In your docstring, it's a good idea to clearly explain what the function does and what the inputs and outputs are. For instance, let's try writing `power` again:"
   ]
  },
  {
   "cell_type": "code",
   "execution_count": 47,
   "metadata": {},
   "outputs": [],
   "source": [
    "def power(x, n):\n",
    "    \"\"\"\n",
    "    Raises x to the power n.\n",
    "    Arguments\n",
    "    ---------\n",
    "    x : float\n",
    "        The base to exponentiate.\n",
    "    n : float\n",
    "        The power to which x should be raised.\n",
    "        \n",
    "    Returns\n",
    "    -------\n",
    "    x ** n : float\n",
    "        The result of exponentiating.\n",
    "    \"\"\"\n",
    "    # This is a docstring: it should be in triple quotes at the top of the function.\n",
    "    return x ** n"
   ]
  },
  {
   "cell_type": "code",
   "execution_count": 48,
   "metadata": {},
   "outputs": [
    {
     "name": "stdout",
     "output_type": "stream",
     "text": [
      "Help on function power in module __main__:\n",
      "\n",
      "power(x, n)\n",
      "    Raises x to the power n.\n",
      "    Arguments\n",
      "    ---------\n",
      "    x : float\n",
      "        The base to exponentiate.\n",
      "    n : float\n",
      "        The power to which x should be raised.\n",
      "        \n",
      "    Returns\n",
      "    -------\n",
      "    x ** n : float\n",
      "        The result of exponentiating.\n",
      "\n"
     ]
    }
   ],
   "source": [
    "help(power)"
   ]
  },
  {
   "cell_type": "markdown",
   "metadata": {},
   "source": [
    "Finally, we may use \"lambda functions\" from time to time. These are just normal functions that we can define in one line instead of with a `def`."
   ]
  },
  {
   "cell_type": "code",
   "execution_count": 49,
   "metadata": {},
   "outputs": [],
   "source": [
    "square = lambda x: x ** 2"
   ]
  },
  {
   "cell_type": "code",
   "execution_count": 50,
   "metadata": {},
   "outputs": [
    {
     "data": {
      "text/plain": [
       "9"
      ]
     },
     "execution_count": 50,
     "metadata": {},
     "output_type": "execute_result"
    }
   ],
   "source": [
    "square(3)"
   ]
  },
  {
   "cell_type": "markdown",
   "metadata": {},
   "source": [
    "Lambdas can't have docstrings, and generally aren't a good idea if you can't just immediately read off what they're supposed to do; however, they're sometimes useful to concisely express a simple idea."
   ]
  },
  {
   "cell_type": "markdown",
   "metadata": {},
   "source": [
    "We're now at the end of the module! Feel free to move on to part 3, after you've run the last cell below."
   ]
  },
  {
   "cell_type": "code",
   "execution_count": 51,
   "metadata": {},
   "outputs": [],
   "source": [
    "import antigravity"
   ]
  }
 ],
 "metadata": {
  "history": [
   {
    "code": "import numpy as np\nfrom matplotlib import pyplot as plt",
    "id": "bae1b2855f864a728bf25ef202fe1725",
    "idx": 1,
    "time": "2021-01-18T21:28:18.592Z",
    "type": "execution"
   },
   {
    "id": "bae1b2855f864a728bf25ef202fe1725",
    "time": "2021-01-18T21:28:21.774Z",
    "type": "completion"
   },
   {
    "code": "type(6)",
    "id": "62bd6b0f628d4a9e8e8e2b39486ceb13",
    "idx": 3,
    "time": "2021-01-18T22:32:26.182Z",
    "type": "execution"
   },
   {
    "id": "62bd6b0f628d4a9e8e8e2b39486ceb13",
    "time": "2021-01-18T22:32:26.250Z",
    "type": "completion"
   },
   {
    "code": "type(lambda x: x)",
    "id": "88789d46d30b45819c2b52310a664689",
    "idx": 5,
    "time": "2021-01-18T22:33:24.505Z",
    "type": "execution"
   },
   {
    "id": "88789d46d30b45819c2b52310a664689",
    "time": "2021-01-18T22:33:24.561Z",
    "type": "completion"
   },
   {
    "code": "type(type)",
    "id": "88789d46d30b45819c2b52310a664689",
    "idx": 5,
    "time": "2021-01-18T22:33:38.814Z",
    "type": "execution"
   },
   {
    "id": "88789d46d30b45819c2b52310a664689",
    "time": "2021-01-18T22:33:38.871Z",
    "type": "completion"
   },
   {
    "code": "type(type(3))",
    "id": "88789d46d30b45819c2b52310a664689",
    "idx": 5,
    "time": "2021-01-18T22:33:54.857Z",
    "type": "execution"
   },
   {
    "id": "88789d46d30b45819c2b52310a664689",
    "time": "2021-01-18T22:33:54.912Z",
    "type": "completion"
   },
   {
    "code": "b = True\nnot b",
    "id": "9669790ef4564169901d26c535fa42d9",
    "idx": 5,
    "time": "2021-01-18T22:35:54.905Z",
    "type": "execution"
   },
   {
    "id": "9669790ef4564169901d26c535fa42d9",
    "time": "2021-01-18T22:35:54.961Z",
    "type": "completion"
   },
   {
    "code": "x = 1\ny = 2.3\nx + y",
    "id": "2df82f6aeeb74673905a3dbe81232d45",
    "idx": 7,
    "time": "2021-01-18T22:43:06.908Z",
    "type": "execution"
   },
   {
    "id": "2df82f6aeeb74673905a3dbe81232d45",
    "time": "2021-01-18T22:43:06.968Z",
    "type": "completion"
   },
   {
    "code": "x = 1\ny = 2.3\nprint(\"the type of x is {0}, while the type of y is {1}\".format(type(x), type(y)))\nx + y",
    "id": "2df82f6aeeb74673905a3dbe81232d45",
    "idx": 7,
    "time": "2021-01-18T22:46:54.630Z",
    "type": "execution"
   },
   {
    "id": "2df82f6aeeb74673905a3dbe81232d45",
    "time": "2021-01-18T22:46:54.694Z",
    "type": "completion"
   },
   {
    "code": "x = 1\ny = 2.3\nprint(\"the type of x is {0}, while the type of y is {1}\".format(type(x), type(y)))\nz = x + y",
    "id": "2df82f6aeeb74673905a3dbe81232d45",
    "idx": 7,
    "time": "2021-01-18T22:47:23.056Z",
    "type": "execution"
   },
   {
    "id": "2df82f6aeeb74673905a3dbe81232d45",
    "time": "2021-01-18T22:47:23.111Z",
    "type": "completion"
   },
   {
    "code": "0.1 + 0.2",
    "id": "a8bad2d2fef142a484d71d39f5b798a4",
    "idx": 10,
    "time": "2021-01-18T22:48:23.968Z",
    "type": "execution"
   },
   {
    "id": "a8bad2d2fef142a484d71d39f5b798a4",
    "time": "2021-01-18T22:48:24.027Z",
    "type": "completion"
   },
   {
    "code": "True or True",
    "id": "5845e14674c34305bfd92ce100c55f15",
    "idx": 7,
    "time": "2021-01-18T22:56:22.707Z",
    "type": "execution"
   },
   {
    "id": "5845e14674c34305bfd92ce100c55f15",
    "time": "2021-01-18T22:56:22.768Z",
    "type": "completion"
   },
   {
    "code": "False and True",
    "id": "0202aa2dffb84f508316bebf35d620e1",
    "idx": 8,
    "time": "2021-01-18T22:56:29.448Z",
    "type": "execution"
   },
   {
    "id": "0202aa2dffb84f508316bebf35d620e1",
    "time": "2021-01-18T22:56:29.503Z",
    "type": "completion"
   },
   {
    "code": "False or True",
    "id": "5845e14674c34305bfd92ce100c55f15",
    "idx": 7,
    "time": "2021-01-18T22:56:34.864Z",
    "type": "execution"
   },
   {
    "id": "5845e14674c34305bfd92ce100c55f15",
    "time": "2021-01-18T22:56:34.920Z",
    "type": "completion"
   },
   {
    "code": "two_b = True\nnot two_b",
    "id": "9669790ef4564169901d26c535fa42d9",
    "idx": 5,
    "time": "2021-01-18T22:56:55.209Z",
    "type": "execution"
   },
   {
    "id": "9669790ef4564169901d26c535fa42d9",
    "time": "2021-01-18T22:56:55.262Z",
    "type": "completion"
   },
   {
    "code": "the_question = two_b or (not two_b)",
    "id": "5845e14674c34305bfd92ce100c55f15",
    "idx": 7,
    "time": "2021-01-18T22:57:03.912Z",
    "type": "execution"
   },
   {
    "id": "5845e14674c34305bfd92ce100c55f15",
    "time": "2021-01-18T22:57:03.965Z",
    "type": "completion"
   },
   {
    "code": "**Question 1**",
    "id": "0202aa2dffb84f508316bebf35d620e1",
    "idx": 8,
    "time": "2021-01-18T22:57:31.608Z",
    "type": "execution"
   },
   {
    "id": "0202aa2dffb84f508316bebf35d620e1",
    "time": "2021-01-18T22:57:31.669Z",
    "type": "completion"
   },
   {
    "code": "the_question = two_b or (not two_b)\nthe_question",
    "id": "5845e14674c34305bfd92ce100c55f15",
    "idx": 7,
    "time": "2021-01-18T22:58:26.352Z",
    "type": "execution"
   },
   {
    "id": "5845e14674c34305bfd92ce100c55f15",
    "time": "2021-01-18T22:58:26.411Z",
    "type": "completion"
   },
   {
    "code": "assert this_is_false is False",
    "id": "e26909daf9df41f19698200fd2faf074",
    "idx": 10,
    "time": "2021-01-18T22:59:36.681Z",
    "type": "execution"
   },
   {
    "id": "e26909daf9df41f19698200fd2faf074",
    "time": "2021-01-18T22:59:36.790Z",
    "type": "completion"
   },
   {
    "code": "this_is_false = not True# your code here!",
    "id": "d27851a9338c4e66b668cc5935b7c344",
    "idx": 9,
    "time": "2021-01-18T22:59:41.928Z",
    "type": "execution"
   },
   {
    "id": "d27851a9338c4e66b668cc5935b7c344",
    "time": "2021-01-18T22:59:41.981Z",
    "type": "completion"
   },
   {
    "code": "assert this_is_false is False",
    "id": "e26909daf9df41f19698200fd2faf074",
    "idx": 10,
    "time": "2021-01-18T22:59:42.696Z",
    "type": "execution"
   },
   {
    "id": "e26909daf9df41f19698200fd2faf074",
    "time": "2021-01-18T22:59:42.748Z",
    "type": "completion"
   },
   {
    "code": "the_question = two_b or not two_b\nthe_question",
    "id": "5845e14674c34305bfd92ce100c55f15",
    "idx": 7,
    "time": "2021-01-18T23:06:58.547Z",
    "type": "execution"
   },
   {
    "id": "5845e14674c34305bfd92ce100c55f15",
    "time": "2021-01-18T23:06:58.605Z",
    "type": "completion"
   },
   {
    "code": "to_be = True\nnot to_be",
    "id": "9669790ef4564169901d26c535fa42d9",
    "idx": 5,
    "time": "2021-01-18T23:07:05.983Z",
    "type": "execution"
   },
   {
    "id": "9669790ef4564169901d26c535fa42d9",
    "time": "2021-01-18T23:07:06.039Z",
    "type": "completion"
   },
   {
    "code": "the_question = to_be or not to_be\nthe_question",
    "id": "5845e14674c34305bfd92ce100c55f15",
    "idx": 7,
    "time": "2021-01-18T23:07:12.800Z",
    "type": "execution"
   },
   {
    "id": "5845e14674c34305bfd92ce100c55f15",
    "time": "2021-01-18T23:07:12.856Z",
    "type": "completion"
   },
   {
    "code": "type(\"hi\")",
    "id": "22585c6ba51349f0bf7ac7c8916ad77f",
    "idx": 20,
    "time": "2021-01-18T23:11:02.826Z",
    "type": "execution"
   },
   {
    "id": "22585c6ba51349f0bf7ac7c8916ad77f",
    "time": "2021-01-18T23:11:02.882Z",
    "type": "completion"
   },
   {
    "code": "type(\"Hi!\")",
    "id": "22585c6ba51349f0bf7ac7c8916ad77f",
    "idx": 20,
    "time": "2021-01-18T23:27:26.690Z",
    "type": "execution"
   },
   {
    "id": "22585c6ba51349f0bf7ac7c8916ad77f",
    "time": "2021-01-18T23:27:26.748Z",
    "type": "completion"
   },
   {
    "code": "\"all lowercase\".islower()",
    "id": "35ebf4a5dbee49499ff0536d3070d244",
    "idx": 22,
    "time": "2021-01-18T23:29:56.887Z",
    "type": "execution"
   },
   {
    "id": "35ebf4a5dbee49499ff0536d3070d244",
    "time": "2021-01-18T23:29:56.946Z",
    "type": "completion"
   },
   {
    "code": "\"This has capital letters!\".islower()",
    "id": "8d70657e164e48c9b91a6d4892378631",
    "idx": 23,
    "time": "2021-01-18T23:30:06.688Z",
    "type": "execution"
   },
   {
    "id": "8d70657e164e48c9b91a6d4892378631",
    "time": "2021-01-18T23:30:06.741Z",
    "type": "completion"
   },
   {
    "code": "spaced = \"            there's so much empty space                \"",
    "id": "cb620c063ad049ab98c3bd1b1f91d630",
    "idx": 26,
    "time": "2021-01-18T23:43:52.452Z",
    "type": "execution"
   },
   {
    "id": "cb620c063ad049ab98c3bd1b1f91d630",
    "time": "2021-01-18T23:43:52.505Z",
    "type": "completion"
   },
   {
    "code": "spaced.strip()",
    "id": "69c38caf086946d581e0bf99f02aee79",
    "idx": 28,
    "time": "2021-01-18T23:46:25.486Z",
    "type": "execution"
   },
   {
    "id": "69c38caf086946d581e0bf99f02aee79",
    "time": "2021-01-18T23:46:25.546Z",
    "type": "completion"
   },
   {
    "code": "spaced.strip() # your code here",
    "id": "69c38caf086946d581e0bf99f02aee79",
    "idx": 28,
    "time": "2021-01-18T23:46:35.379Z",
    "type": "execution"
   },
   {
    "id": "69c38caf086946d581e0bf99f02aee79",
    "time": "2021-01-18T23:46:35.432Z",
    "type": "completion"
   },
   {
    "code": "spaced",
    "id": "bd2a06f23e634e7c808c3f5d5d8c0795",
    "idx": 30,
    "time": "2021-01-18T23:50:52.305Z",
    "type": "execution"
   },
   {
    "id": "bd2a06f23e634e7c808c3f5d5d8c0795",
    "time": "2021-01-18T23:50:52.368Z",
    "type": "completion"
   },
   {
    "code": "spaced[15:20]",
    "id": "bd2a06f23e634e7c808c3f5d5d8c0795",
    "idx": 30,
    "time": "2021-01-18T23:51:00.806Z",
    "type": "execution"
   },
   {
    "id": "bd2a06f23e634e7c808c3f5d5d8c0795",
    "time": "2021-01-18T23:51:00.863Z",
    "type": "completion"
   },
   {
    "code": "univ_name = \"University of California, Berkeley\"\nuniv_name[11:20]",
    "id": "bd2a06f23e634e7c808c3f5d5d8c0795",
    "idx": 30,
    "time": "2021-01-18T23:55:26.982Z",
    "type": "execution"
   },
   {
    "id": "bd2a06f23e634e7c808c3f5d5d8c0795",
    "time": "2021-01-18T23:55:27.039Z",
    "type": "completion"
   },
   {
    "code": "univ_name = \"University of California, Berkeley\"\nuniv_name[15:20]",
    "id": "bd2a06f23e634e7c808c3f5d5d8c0795",
    "idx": 30,
    "time": "2021-01-18T23:55:30.023Z",
    "type": "execution"
   },
   {
    "id": "bd2a06f23e634e7c808c3f5d5d8c0795",
    "time": "2021-01-18T23:55:30.078Z",
    "type": "completion"
   },
   {
    "code": "univ_name = \"University of California, Berkeley\"\nuniv_name[14:25]",
    "id": "bd2a06f23e634e7c808c3f5d5d8c0795",
    "idx": 30,
    "time": "2021-01-18T23:55:34.406Z",
    "type": "execution"
   },
   {
    "id": "bd2a06f23e634e7c808c3f5d5d8c0795",
    "time": "2021-01-18T23:55:34.460Z",
    "type": "completion"
   },
   {
    "code": "univ_name = \"University of California, Berkeley\"\nuniv_name[14:24]",
    "id": "bd2a06f23e634e7c808c3f5d5d8c0795",
    "idx": 30,
    "time": "2021-01-18T23:55:36.630Z",
    "type": "execution"
   },
   {
    "id": "bd2a06f23e634e7c808c3f5d5d8c0795",
    "time": "2021-01-18T23:55:36.683Z",
    "type": "completion"
   },
   {
    "code": "num_lst = [3, 8, 10]",
    "id": "b155f1fb0eb946ea883f0bff9ddd1a23",
    "idx": 32,
    "time": "2021-01-19T00:04:37.038Z",
    "type": "execution"
   },
   {
    "id": "b155f1fb0eb946ea883f0bff9ddd1a23",
    "time": "2021-01-19T00:04:37.095Z",
    "type": "completion"
   },
   {
    "code": "num_lst = [3, 8, 10]\nnum_lst[1] == 8",
    "id": "b155f1fb0eb946ea883f0bff9ddd1a23",
    "idx": 32,
    "time": "2021-01-19T00:04:56.331Z",
    "type": "execution"
   },
   {
    "id": "b155f1fb0eb946ea883f0bff9ddd1a23",
    "time": "2021-01-19T00:04:56.385Z",
    "type": "completion"
   },
   {
    "code": "mixed_lst = [3, 1.8, \"python\", [10, 2.4]]",
    "id": "34c0346a66f54fd79c3cb64c95474055",
    "idx": 34,
    "time": "2021-01-19T00:07:45.045Z",
    "type": "execution"
   },
   {
    "id": "34c0346a66f54fd79c3cb64c95474055",
    "time": "2021-01-19T00:07:45.102Z",
    "type": "completion"
   },
   {
    "code": "squares = {1: 1, 2: 4, 3: 9}",
    "id": "5672bf6ddd6b49038b345f9f2a7d46f4",
    "idx": 37,
    "time": "2021-01-19T00:27:18.693Z",
    "type": "execution"
   },
   {
    "id": "5672bf6ddd6b49038b345f9f2a7d46f4",
    "time": "2021-01-19T00:27:18.750Z",
    "type": "completion"
   },
   {
    "code": "squares[3]",
    "id": "5f940827655c4fac81f916dd798af39a",
    "idx": 38,
    "time": "2021-01-19T00:27:21.341Z",
    "type": "execution"
   },
   {
    "id": "5f940827655c4fac81f916dd798af39a",
    "time": "2021-01-19T00:27:21.396Z",
    "type": "completion"
   },
   {
    "code": "squares = {3: 9, 2: 4, -1: 1}",
    "id": "5672bf6ddd6b49038b345f9f2a7d46f4",
    "idx": 37,
    "time": "2021-01-19T00:35:56.530Z",
    "type": "execution"
   },
   {
    "id": "5672bf6ddd6b49038b345f9f2a7d46f4",
    "time": "2021-01-19T00:35:56.587Z",
    "type": "completion"
   },
   {
    "code": "squares[3]",
    "id": "5f940827655c4fac81f916dd798af39a",
    "idx": 38,
    "time": "2021-01-19T00:35:57.381Z",
    "type": "execution"
   },
   {
    "id": "5f940827655c4fac81f916dd798af39a",
    "time": "2021-01-19T00:35:57.435Z",
    "type": "completion"
   }
  ],
  "kernelspec": {
   "display_name": "Python 3",
   "language": "python",
   "name": "python3"
  },
  "language_info": {
   "codemirror_mode": {
    "name": "ipython",
    "version": 3
   },
   "file_extension": ".py",
   "mimetype": "text/x-python",
   "name": "python",
   "nbconvert_exporter": "python",
   "pygments_lexer": "ipython3",
   "version": "3.8.3"
  }
 },
 "nbformat": 4,
 "nbformat_minor": 4
}
