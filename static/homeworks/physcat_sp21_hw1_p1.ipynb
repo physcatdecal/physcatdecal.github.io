{
 "cells": [
  {
   "cell_type": "markdown",
   "id": "gentle-thickness",
   "metadata": {},
   "source": [
    "## HW1-P1 Checkpoint\n",
    "\n",
    "This file contains a number of benchmarks so that we can get some idea of how your computer performs and make sure everything installed correctly. These should take a minute or two to run depending on your machine.\n",
    "\n",
    "In order to complete this checkpoint simply run all of the cells (put your cursor in each cell and hit Ctrl+Enter/Command+Enter or goto Kernel->Restart and Run All) and then save the notebook (Ctrl+S/Command+S) and upload it to gradescope."
   ]
  },
  {
   "cell_type": "code",
   "execution_count": null,
   "id": "chicken-argentina",
   "metadata": {},
   "outputs": [],
   "source": [
    "import numpy as np\n",
    "from time import time\n",
    "\n",
    "# Roughly based on: http://stackoverflow.com/questions/11443302/compiling-numpy-with-openblas-integration\n",
    "np.random.seed(0)\n",
    "\n",
    "size = 4096\n",
    "A, B = np.random.random((size, size)), np.random.random((size, size))\n",
    "C, D = np.random.random((size * 128,)), np.random.random((size * 128,))\n",
    "E = np.random.random((int(size / 2), int(size / 4)))\n",
    "F = np.random.random((int(size / 2), int(size / 2)))\n",
    "F = np.dot(F, F.T)\n",
    "G = np.random.random((int(size / 2), int(size / 2)))"
   ]
  },
  {
   "cell_type": "markdown",
   "id": "annoying-perception",
   "metadata": {},
   "source": [
    "Run a few quick numpy benchmarks"
   ]
  },
  {
   "cell_type": "code",
   "execution_count": null,
   "id": "intellectual-valuable",
   "metadata": {},
   "outputs": [],
   "source": [
    "# Matrix multiplication\n",
    "N = 20\n",
    "t = time()\n",
    "for i in range(N):\n",
    "    np.dot(A, B)\n",
    "delta = time() - t\n",
    "print('Dotted two %dx%d matrices in %0.2f s.' % (size, size, delta / N))\n",
    "del A, B\n",
    "\n",
    "# Vector multiplication\n",
    "N = 5000\n",
    "t = time()\n",
    "for i in range(N):\n",
    "    np.dot(C, D)\n",
    "delta = time() - t\n",
    "print('Dotted two vectors of length %d in %0.2f ms.' % (size * 128, 1e3 * delta / N))\n",
    "del C, D\n",
    "\n",
    "# Singular Value Decomposition (SVD)\n",
    "N = 3\n",
    "t = time()\n",
    "for i in range(N):\n",
    "    np.linalg.svd(E, full_matrices = False)\n",
    "delta = time() - t\n",
    "print(\"SVD of a %dx%d matrix in %0.2f s.\" % (size / 2, size / 4, delta / N))\n",
    "del E\n",
    "\n",
    "# Cholesky Decomposition\n",
    "N = 3\n",
    "t = time()\n",
    "for i in range(N):\n",
    "    np.linalg.cholesky(F)\n",
    "delta = time() - t\n",
    "print(\"Cholesky decomposition of a %dx%d matrix in %0.2f s.\" % (size / 2, size / 2, delta / N))\n",
    "\n",
    "# Eigendecomposition\n",
    "t = time()\n",
    "for i in range(N):\n",
    "    np.linalg.eig(G)\n",
    "delta = time() - t\n",
    "print(\"Eigendecomposition of a %dx%d matrix in %0.2f s.\" % (size / 2, size / 2, delta / N))"
   ]
  },
  {
   "cell_type": "markdown",
   "id": "adequate-malawi",
   "metadata": {},
   "source": [
    "The following cell simply prints out some system information to make sure everything is setup properly."
   ]
  },
  {
   "cell_type": "code",
   "execution_count": null,
   "id": "grave-peripheral",
   "metadata": {},
   "outputs": [],
   "source": [
    "import platform\n",
    "print(platform.platform())\n",
    "print(platform.machine())\n",
    "print(platform.processor())\n",
    "\n",
    "np.__config__.show()"
   ]
  },
  {
   "cell_type": "markdown",
   "id": "seasonal-feeding",
   "metadata": {},
   "source": [
    "Test the python-compiler library numba"
   ]
  },
  {
   "cell_type": "code",
   "execution_count": null,
   "id": "confirmed-ozone",
   "metadata": {},
   "outputs": [],
   "source": [
    "from numba import njit\n",
    "\n",
    "def fib_python(n):\n",
    "    last = 1\n",
    "    current = 1\n",
    "    if n == 0 or n == 1:\n",
    "        return 1\n",
    "    for i in range(0, n - 2):\n",
    "        last, current = current, last + current\n",
    "    return current\n",
    "\n",
    "@njit\n",
    "def fib_numba(n):\n",
    "    last = 1\n",
    "    current = 1\n",
    "    if n == 0 or n == 1:\n",
    "        return 1\n",
    "    for i in range(0, n - 2):\n",
    "        last, current = current, last + current\n",
    "    return current\n",
    "\n",
    "# Trigger jitting of fib\n",
    "fib_numba(5)\n",
    "fib_python(5)\n",
    "\n",
    "%timeit fib_numba(1500)\n",
    "%timeit fib_python(1500)"
   ]
  }
 ],
 "metadata": {
  "kernelspec": {
   "display_name": "Python 3",
   "language": "python",
   "name": "python3"
  },
  "language_info": {
   "codemirror_mode": {
    "name": "ipython",
    "version": 3
   },
   "file_extension": ".py",
   "mimetype": "text/x-python",
   "name": "python",
   "nbconvert_exporter": "python",
   "pygments_lexer": "ipython3",
   "version": "3.8.5"
  }
 },
 "nbformat": 4,
 "nbformat_minor": 5
}
